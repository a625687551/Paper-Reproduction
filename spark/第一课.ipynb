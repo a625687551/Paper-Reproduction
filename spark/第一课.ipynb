{
 "cells": [
  {
   "cell_type": "markdown",
   "metadata": {},
   "source": [
    "# 一、大数据介绍"
   ]
  },
  {
   "cell_type": "markdown",
   "metadata": {},
   "source": [
    "## 大数据定义和概览"
   ]
  },
  {
   "cell_type": "markdown",
   "metadata": {},
   "source": [
    "4V定义\n",
    "1. volumn \n",
    "2. varity \n",
    "3. velocity 数据流转速度\n",
    "4. value 数据价值"
   ]
  },
  {
   "cell_type": "markdown",
   "metadata": {},
   "source": [
    "#### 二、数据类型\n",
    "1. 结构化数据\n",
    "2. 非结构化数据 文本、音频、邮件、调查表数据\n",
    "3. 半结构化数据  xml json\n"
   ]
  },
  {
   "cell_type": "markdown",
   "metadata": {},
   "source": [
    "##  大数据处理"
   ]
  },
  {
   "cell_type": "markdown",
   "metadata": {},
   "source": [
    "#### 一、传统处理\n",
    "1. 无结构数据处理难\n",
    "2. 单机处理效率低\n",
    "3. 无法存储海量信息\n",
    "4. 难以提取有价值数据"
   ]
  },
  {
   "cell_type": "markdown",
   "metadata": {},
   "source": [
    "#### 二、大数据处理\n",
    "1. 并行处理，扩展好\n",
    "2. 处理速度快\n",
    "3. 多种处理格式"
   ]
  },
  {
   "cell_type": "markdown",
   "metadata": {},
   "source": [
    "# 二、分布式架构介绍"
   ]
  },
  {
   "cell_type": "markdown",
   "metadata": {},
   "source": [
    "## 1. 单机架构\n",
    "所有业务都在一个项目中，并且部署到一台服务器中，客户端处理所有请求\n"
   ]
  },
  {
   "cell_type": "markdown",
   "metadata": {},
   "source": [
    "##  2. 集群结构\n",
    "单机配置复制好几份，相同的服务，负载进行均衡\n",
    "*优势*\n",
    "1. 可以扩展服务\n",
    "2. 处理大量请求\n",
    "\n",
    "无法对复杂任务进行切割分配"
   ]
  },
  {
   "cell_type": "markdown",
   "metadata": {},
   "source": [
    "## 3. 分布式系统\n",
    "定义：完整的系统划分成子系统， 每一个子系统都是服务，独立部署，服务之间可以通信\n",
    "相似的概念：微服务\n",
    "**优势**\n",
    "1. 独立部署各个子系统 各个\n",
    "    1. 各个子系统互不干扰\n",
    "    2. 子系统之间通信便捷\n",
    "    3. 整个系统更加健壮，鲁棒性更好\n",
    "2. 可以扩展\n",
    "    1. 可以无限扩张性能，\n",
    "    2. 性能不是瓶颈"
   ]
  },
  {
   "cell_type": "markdown",
   "metadata": {},
   "source": [
    "# 三、常见的分布式系统"
   ]
  },
  {
   "cell_type": "markdown",
   "metadata": {},
   "source": [
    "## 1. 分布式存储系统\n",
    "\n",
    "\n",
    "## 2. 分布式计算系统\n",
    "## 3. 分布式消息队列系统\n",
    "## 4. 分布式机器学习系统\n",
    "## 5. 总结"
   ]
  }
 ],
 "metadata": {
  "kernelspec": {
   "display_name": "Python 3.7",
   "language": "python",
   "name": "python3"
  },
  "language_info": {
   "codemirror_mode": {
    "name": "ipython",
    "version": 3
   },
   "file_extension": ".py",
   "mimetype": "text/x-python",
   "name": "python",
   "nbconvert_exporter": "python",
   "pygments_lexer": "ipython3",
   "version": "3.7.6"
  }
 },
 "nbformat": 4,
 "nbformat_minor": 4
}
